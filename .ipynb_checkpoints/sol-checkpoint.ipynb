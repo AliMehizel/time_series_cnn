{
 "cells": [
  {
   "cell_type": "code",
   "execution_count": 10,
   "metadata": {},
   "outputs": [],
   "source": [
    "import torch \n",
    "import numpy as np\n",
    "from typing import *"
   ]
  },
  {
   "cell_type": "markdown",
   "metadata": {},
   "source": [
    "### **Exercice 01**"
   ]
  },
  {
   "cell_type": "markdown",
   "metadata": {},
   "source": [
    "### **Q1. prepare time series data**"
   ]
  },
  {
   "cell_type": "code",
   "execution_count": 11,
   "metadata": {},
   "outputs": [
    {
     "data": {
      "text/plain": [
       "tensor([-11.5487, -10.8358, -10.1665,  -9.5382,  -8.9484,  -8.3946,  -7.8746,\n",
       "         -7.3863,  -6.9278,  -6.4972,  -6.0928,  -5.7130,  -5.3561,  -5.0209,\n",
       "         -4.7059,  -4.4098,  -4.1315,  -3.8699,  -3.6238,  -3.3924,  -3.1746,\n",
       "         -2.9696,  -2.7766,  -2.5948,  -2.4234,  -2.2618,  -2.1093,  -1.9653,\n",
       "         -1.8292,  -1.7005,  -1.5786,  -1.4631,  -1.3535,  -1.2494,  -1.1503,\n",
       "         -1.0558,  -0.9655,  -0.8792,  -0.7964,  -0.7168,  -0.6401,  -0.5660,\n",
       "         -0.4942,  -0.4243,  -0.3562,  -0.2895,  -0.2240,  -0.1593,  -0.0953,\n",
       "         -0.0317,   0.0317,   0.0953,   0.1593,   0.2240,   0.2895,   0.3562,\n",
       "          0.4243,   0.4942,   0.5660,   0.6401,   0.7168,   0.7964,   0.8792,\n",
       "          0.9655,   1.0558,   1.1503,   1.2494,   1.3535,   1.4631,   1.5786,\n",
       "          1.7005,   1.8292,   1.9653,   2.1093,   2.2618,   2.4234,   2.5948,\n",
       "          2.7766,   2.9696,   3.1746,   3.3924,   3.6238,   3.8699,   4.1315,\n",
       "          4.4098,   4.7059,   5.0209,   5.3561,   5.7130,   6.0928,   6.4972,\n",
       "          6.9278,   7.3863,   7.8746,   8.3946,   8.9484,   9.5382,  10.1665,\n",
       "         10.8358,  11.5487])"
      ]
     },
     "execution_count": 11,
     "metadata": {},
     "output_type": "execute_result"
    }
   ],
   "source": [
    "in_sin = torch.linspace(-np.pi,np.pi,100)\n",
    "sine_wave = torch.sinh(in_sin)\n",
    "sine_wave"
   ]
  },
  {
   "cell_type": "code",
   "execution_count": 21,
   "metadata": {},
   "outputs": [
    {
     "data": {
      "text/plain": [
       "[]"
      ]
     },
     "execution_count": 21,
     "metadata": {},
     "output_type": "execute_result"
    }
   ],
   "source": [
    "def _slid_window(series: Union[list, torch.tensor], window_size: int, look_back: Union[int,None]) -> torch.tensor:\n",
    "\n",
    "    if look_back:\n",
    "        series = series[-look_back:]\n",
    "\n",
    "    X = []\n",
    "\n",
    "    for i in range(len(series) - window_size +1):\n",
    "        X.append(series[i: i+ window_size].tolist())\n",
    "        \n",
    "\n",
    "\n",
    "        \n",
    "    #X = torch.FloatTensor(X)\n",
    "    #X = X.reshape(X.shape[0], window_size, 1)\n",
    "\n",
    "    return X\n",
    "_slid_window(sine_wave, 5,3)\n",
    "\n"
   ]
  },
  {
   "cell_type": "code",
   "execution_count": null,
   "metadata": {},
   "outputs": [
    {
     "data": {
      "text/plain": [
       "tensor([], size=(0, 5, 1))"
      ]
     },
     "execution_count": 13,
     "metadata": {},
     "output_type": "execute_result"
    }
   ],
   "source": []
  }
 ],
 "metadata": {
  "kernelspec": {
   "display_name": "Python 3",
   "language": "python",
   "name": "python3"
  },
  "language_info": {
   "codemirror_mode": {
    "name": "ipython",
    "version": 3
   },
   "file_extension": ".py",
   "mimetype": "text/x-python",
   "name": "python",
   "nbconvert_exporter": "python",
   "pygments_lexer": "ipython3",
   "version": "3.12.5"
  }
 },
 "nbformat": 4,
 "nbformat_minor": 2
}
